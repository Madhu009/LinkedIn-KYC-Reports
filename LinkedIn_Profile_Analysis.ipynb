{
 "cells": [
  {
   "cell_type": "code",
   "execution_count": 1,
   "metadata": {
    "collapsed": false
   },
   "outputs": [
    {
     "data": {
      "text/html": [
       "<div>\n",
       "<style>\n",
       "    .dataframe thead tr:only-child th {\n",
       "        text-align: right;\n",
       "    }\n",
       "\n",
       "    .dataframe thead th {\n",
       "        text-align: left;\n",
       "    }\n",
       "\n",
       "    .dataframe tbody tr th {\n",
       "        vertical-align: top;\n",
       "    }\n",
       "</style>\n",
       "<table border=\"1\" class=\"dataframe\">\n",
       "  <thead>\n",
       "    <tr style=\"text-align: right;\">\n",
       "      <th></th>\n",
       "      <th>Fname</th>\n",
       "      <th>Lname</th>\n",
       "      <th>email</th>\n",
       "      <th>comapany_name</th>\n",
       "      <th>Position</th>\n",
       "      <th>DateConnected</th>\n",
       "    </tr>\n",
       "  </thead>\n",
       "  <tbody>\n",
       "    <tr>\n",
       "      <th>1</th>\n",
       "      <td>David</td>\n",
       "      <td>Knight</td>\n",
       "      <td>dknight@terbine.com</td>\n",
       "      <td>TERBINE</td>\n",
       "      <td>Founder and CEO</td>\n",
       "      <td>2017-09-21 11:39:00</td>\n",
       "    </tr>\n",
       "    <tr>\n",
       "      <th>2</th>\n",
       "      <td>Sven J.</td>\n",
       "      <td>Kolthof</td>\n",
       "      <td>kolthof@rarecompany.com</td>\n",
       "      <td>lexoro tech GmbH</td>\n",
       "      <td>Managing Director</td>\n",
       "      <td>2017-11-10 22:53:00</td>\n",
       "    </tr>\n",
       "    <tr>\n",
       "      <th>3</th>\n",
       "      <td>Ajit</td>\n",
       "      <td>Jaokar</td>\n",
       "      <td>ajit.jaokar@futuretext.com</td>\n",
       "      <td>various - fintech, healthcare and IoT</td>\n",
       "      <td>Principal Data Scientist/ AI Designer</td>\n",
       "      <td>2017-06-01 22:09:00</td>\n",
       "    </tr>\n",
       "    <tr>\n",
       "      <th>4</th>\n",
       "      <td>Charlie</td>\n",
       "      <td>Muirhead</td>\n",
       "      <td>charliemuirhead@gmail.com</td>\n",
       "      <td>CognitionX</td>\n",
       "      <td>Founder &amp; CEO</td>\n",
       "      <td>2017-11-05 04:54:00</td>\n",
       "    </tr>\n",
       "    <tr>\n",
       "      <th>5</th>\n",
       "      <td>Carlo</td>\n",
       "      <td>Tedesco</td>\n",
       "      <td>carlote@gmail.com</td>\n",
       "      <td>Logitech</td>\n",
       "      <td>Senior Program Manager</td>\n",
       "      <td>2018-01-11 11:58:00</td>\n",
       "    </tr>\n",
       "  </tbody>\n",
       "</table>\n",
       "</div>"
      ],
      "text/plain": [
       "     Fname     Lname                       email  \\\n",
       "1    David    Knight         dknight@terbine.com   \n",
       "2  Sven J.   Kolthof     kolthof@rarecompany.com   \n",
       "3     Ajit    Jaokar  ajit.jaokar@futuretext.com   \n",
       "4  Charlie  Muirhead   charliemuirhead@gmail.com   \n",
       "5    Carlo   Tedesco           carlote@gmail.com   \n",
       "\n",
       "                           comapany_name  \\\n",
       "1                                TERBINE   \n",
       "2                       lexoro tech GmbH   \n",
       "3  various - fintech, healthcare and IoT   \n",
       "4                             CognitionX   \n",
       "5                               Logitech   \n",
       "\n",
       "                                Position       DateConnected  \n",
       "1                        Founder and CEO 2017-09-21 11:39:00  \n",
       "2                      Managing Director 2017-11-10 22:53:00  \n",
       "3  Principal Data Scientist/ AI Designer 2017-06-01 22:09:00  \n",
       "4                          Founder & CEO 2017-11-05 04:54:00  \n",
       "5                 Senior Program Manager 2018-01-11 11:58:00  "
      ]
     },
     "execution_count": 1,
     "metadata": {},
     "output_type": "execute_result"
    }
   ],
   "source": [
    "import pandas as pd\n",
    "import matplotlib.pyplot as plt\n",
    "import seaborn as sns\n",
    "import numpy as np\n",
    "\n",
    "# read the csv file with custom column names\n",
    "data =pd.read_csv('Connections.csv',names = [\"Fname\", \"Lname\", \"email\", \"comapany_name\",\"Position\",\"DateConnected\",\"Tags\"])\n",
    "\n",
    "#drop the first row\n",
    "data=data.drop(data.index[0])\n",
    "\n",
    "# remove last column tags \n",
    "data = data.drop('Tags', 1)\n",
    "\n",
    "#convert the date column into pandas datetime\n",
    "data[\"DateConnected\"] = pd.to_datetime(data['DateConnected'])\n",
    "\n",
    "data.head()"
   ]
  },
  {
   "cell_type": "markdown",
   "metadata": {},
   "source": [
    "# Tasks can be done\n",
    "\n",
    "1. Date parsing\n",
    "\n",
    "    Given a date we can know how many are connected, who they are \n",
    "        Input = From date to To date Output = count, list of names(fname+lname)\n",
    "    \n",
    "    Get highest connections date (top n dates)\n",
    "        Output = Bar chart\n",
    "        \n",
    "    \n",
    "    \n",
    "    \n",
    "    "
   ]
  },
  {
   "cell_type": "code",
   "execution_count": 16,
   "metadata": {
    "collapsed": false
   },
   "outputs": [],
   "source": [
    "# remove symbols like &, /,- , , , |, (), \n",
    "import re\n",
    "data['Position'] = data['Position'].apply(lambda x:re.sub(r'[^\\w]', ' ', str(x)) )"
   ]
  },
  {
   "cell_type": "code",
   "execution_count": null,
   "metadata": {
    "collapsed": true
   },
   "outputs": [],
   "source": [
    "# CEO # Machine learning engineer # deep learning engineer # AI developer #web devloper # Data science engineer #android developer\n",
    "\n",
    "#DirectorDept "
   ]
  }
 ],
 "metadata": {
  "kernelspec": {
   "display_name": "Python 3",
   "language": "python",
   "name": "python3"
  },
  "language_info": {
   "codemirror_mode": {
    "name": "ipython",
    "version": 3
   },
   "file_extension": ".py",
   "mimetype": "text/x-python",
   "name": "python",
   "nbconvert_exporter": "python",
   "pygments_lexer": "ipython3",
   "version": "3.6.0"
  }
 },
 "nbformat": 4,
 "nbformat_minor": 2
}
